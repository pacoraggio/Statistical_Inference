{
 "cells": [
  {
   "cell_type": "code",
   "execution_count": 1,
   "id": "f4b79717-a649-4e8d-8014-9761459c0ba7",
   "metadata": {},
   "outputs": [],
   "source": [
    "import sys\n",
    "sys.path.append('./lib/')\n",
    "\n",
    "with open('./lib/common_imports.py') as f:\n",
    "    exec(f.read())"
   ]
  },
  {
   "cell_type": "markdown",
   "id": "69eb5e50-7a23-4f3a-b757-3607d9736a36",
   "metadata": {},
   "source": [
    "# P-values"
   ]
  },
  {
   "cell_type": "markdown",
   "id": "ac2edf06-2826-4f61-b13d-ca1d239f13c2",
   "metadata": {},
   "source": [
    "## What is a P-value?"
   ]
  },
  {
   "cell_type": "markdown",
   "id": "235214b1-62da-4e74-8d8c-5c4e6c6d0dd0",
   "metadata": {},
   "source": [
    "The central idea of a P-value is to assume that the null hypothesis is true and calculate how unusual it would be to see data (in the form of a test statistic) as extreme as was seen in favor of the alternative hypothesis. The formal definition is: \n",
    "\n",
    "> A P-value is the probability of observing a test statistic as or more extreme in favor of the alternative than was actually obtained, where the probability is calculated assuming that the null hypothesis is true.\n",
    "\n",
    "A P-value then requires a few steps. \n",
    "1. Decide on a statistic that evaluates support of the null or alternative hypothesis.\n",
    "2. Decide on a distribution of that statistic under the null hypothesis (null distribution).\n",
    "3. Calculate the probability of obtaining a statistic as or more extreme as was observed using the distribution in 2.\n",
    "\n",
    "The way to interpret P-values is as follows. If the P-value is small, then either $H_{0}$ is true and we have observed a rare event or $H_{0}$ is false (or possibly the null model is incorrect). Let’s do a quick example. Suppose that you get a $t$ statistic of 2.5 for 15 degrees of freedom testing $H_{0} : \\mu = \\mu_{0}$ versus $H_{a} : \\mu > \\mu_{0}$. What’s the probability of getting a $t$ statistic as large as 2.5?"
   ]
  },
  {
   "cell_type": "code",
   "execution_count": 2,
   "id": "c5952fa0-f35e-46db-b91c-ef8d5c5e56b9",
   "metadata": {},
   "outputs": [
    {
     "name": "stdout",
     "output_type": "stream",
     "text": [
      "0.012252901623256984\n"
     ]
    }
   ],
   "source": [
    "from scipy.stats import t as t_distribution\n",
    "print(1-t_distribution.cdf(2.5, df = 15))"
   ]
  },
  {
   "cell_type": "markdown",
   "id": "9ed616e3-43da-48cd-8d17-b6f11f76e548",
   "metadata": {},
   "source": [
    "Therefore, the probability of seeing evidence as extreme or more extreme than that actually obtained under $H_{0}$ is $0.0123$. So, (assuming our model is correct) either we observed data that was pretty unlikely under the null, or the null hypothesis if false."
   ]
  },
  {
   "cell_type": "markdown",
   "id": "c34902d8-e15f-4ad7-bebd-d8b5d924d467",
   "metadata": {},
   "source": [
    "## The attained significance level"
   ]
  },
  {
   "cell_type": "markdown",
   "id": "11075cdc-a1a6-4e89-8a8e-02e0d785c04c",
   "metadata": {},
   "source": [
    "Recall in a previous chapter that our test statistic was $2$ for $H_{0} : \\mu_{0} = 30$ versus $H_{a} : \\mu > 30$ using a normal test ($n$ was 100). Notice that we rejected the one sided test when $\\alpha = 0.05$, would we reject if $\\alpha = 0.01$, how about $0.001$? \n",
    "\n",
    "The smallest value for alpha that you still reject the null hypothesis is called the ***attained significance level***. \n",
    "\n",
    "> This is mathematically equivalent, but philosophically a little different from, the P-value. Whereas the P-value is interpreted in the terms of how probabilistically extreme our test statistic is under the null, the attained significance level merely conveys what the smallest level of α that one could reject at.\n",
    "\n",
    "This equivalence makes P-values very convenient to convey. The reader of the results can perform the test at whatever $\\alpha$ he or she choses. This is especially useful in multiple testing circumstances. \n",
    "\n",
    "Here’s the two rules for performing hypothesis tests with P-values. \n",
    "1. If the P-value for a test is less than $\\alpha$ you reject the null hypothesis \n",
    "2. For two sided hypothesis test, double the smaller of the two one sided hypothesis test Pvalues"
   ]
  },
  {
   "cell_type": "markdown",
   "id": "4e5e2f74-ad52-411d-9696-c7705bc51b2c",
   "metadata": {},
   "source": [
    "## Binomial P-value"
   ]
  },
  {
   "cell_type": "markdown",
   "id": "273ab7b4-81ac-45bb-8bbb-7c29a4b94ab1",
   "metadata": {},
   "source": [
    "Suppose a friend has 8 children, 7 of which are girls and none are twins. If each gender has an independent 50% probability for each birth, what’s the probability of getting 7 or more girls out of\n",
    "8 births?\n",
    "\n",
    "This calculation is a P-value where the statistic is the number of girls and the null distribution is a fair coin flip for each gender. We want to test $H_{0} : p = 0.5$ versus $H_{a} : p > 0.5$, where $p$ is the probability of having a girl for each birth.\n",
    "\n",
    "Recall here’s the calculation:"
   ]
  },
  {
   "cell_type": "code",
   "execution_count": 5,
   "id": "f41dd100-870f-445a-b495-e5f8c975cade",
   "metadata": {},
   "outputs": [
    {
     "data": {
      "text/plain": [
       "0.03516"
      ]
     },
     "execution_count": 5,
     "metadata": {},
     "output_type": "execute_result"
    }
   ],
   "source": [
    "from scipy.stats import binom\n",
    "\n",
    "np.round(1-binom.cdf(6,8, p=0.5),5)"
   ]
  },
  {
   "cell_type": "markdown",
   "id": "362366cb-4997-429a-b6d1-e18ff391bf3c",
   "metadata": {},
   "source": [
    "Since our P-value is less than $0.05$ we would reject at a $5 \\%$ error rate. Note, however, if we were doing a two sided test, we would have to double the P-value and thus would then fail to reject."
   ]
  },
  {
   "cell_type": "markdown",
   "id": "d6288e50-3631-4c2f-ba04-ed39092d64bc",
   "metadata": {},
   "source": [
    "## Poisson example"
   ]
  },
  {
   "cell_type": "markdown",
   "id": "13efa6a8-7b55-4f87-808c-1c84c86e36e5",
   "metadata": {},
   "source": [
    "Suppose that a hospital has an infection rate of $10$ infections per $100$ person/days at risk (rate of $0.1$) during the last monitoring period. Assume that an infection rate of $0.05$ is an important benchmark.\n",
    "\n",
    "Given a Poisson model, could the observed rate being larger than $0.05$ be attributed to chance? We want to test $H_{0} : \\lambda = 0.05$ where $\\lambda$ is the rate of infections per person day so that $5$ would be the rate per 100 days. Thus we want to know if $9$ events per $100$ person/days is unusual with respect to a Poisson distribution with a rate of $5$ events per $100$. Consider $H_{a} : \\lambda > 0.05$."
   ]
  },
  {
   "cell_type": "code",
   "execution_count": 4,
   "id": "d329fef4-bb46-458d-8d7a-7e2c10040253",
   "metadata": {},
   "outputs": [
    {
     "data": {
      "text/plain": [
       "0.03183"
      ]
     },
     "execution_count": 4,
     "metadata": {},
     "output_type": "execute_result"
    }
   ],
   "source": [
    "from scipy.stats import poisson\n",
    "np.round(1-poisson.cdf(9,5),5)"
   ]
  },
  {
   "cell_type": "markdown",
   "id": "d19a40db-609e-4bfb-80a3-15f7b219f0d7",
   "metadata": {},
   "source": [
    "Again, since this P-value is less than $0.05$ we reject the null hypothesis. The P-value would be $0.06$ for two sided hypothesis (double) and so we would fail to reject in that case."
   ]
  },
  {
   "cell_type": "code",
   "execution_count": null,
   "id": "2fcf1343-ca6f-4d08-b462-30705d90bea9",
   "metadata": {},
   "outputs": [],
   "source": []
  }
 ],
 "metadata": {
  "kernelspec": {
   "display_name": "Python 3 (ipykernel)",
   "language": "python",
   "name": "python3"
  },
  "language_info": {
   "codemirror_mode": {
    "name": "ipython",
    "version": 3
   },
   "file_extension": ".py",
   "mimetype": "text/x-python",
   "name": "python",
   "nbconvert_exporter": "python",
   "pygments_lexer": "ipython3",
   "version": "3.9.18"
  }
 },
 "nbformat": 4,
 "nbformat_minor": 5
}
