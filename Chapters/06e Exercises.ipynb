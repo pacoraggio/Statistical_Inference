{
 "cells": [
  {
   "cell_type": "markdown",
   "id": "4082c3fd-ff4b-4adc-baa3-5d671bcc9526",
   "metadata": {},
   "source": [
    "# Some common distributions - Exercises"
   ]
  },
  {
   "cell_type": "markdown",
   "id": "1114896f-6543-4304-92e4-4d016bed5a78",
   "metadata": {},
   "source": [
    "## Exercise #1"
   ]
  },
  {
   "cell_type": "markdown",
   "id": "4d3b04df-cd7a-4881-a07f-ad38247eeb97",
   "metadata": {},
   "source": [
    "> Your friend claims that changing the font to comic sans will result in more ad revenue on your web sites. When presented in random order, 9 pages out of 10 had more revenue when the font was set to comic sans. If it was really a coin flip for these 10 sites, what’s the probability of getting 9 or 10 out of 10 with more revenue for the new font?"
   ]
  },
  {
   "cell_type": "markdown",
   "id": "20252516-c5da-460e-ac81-419cdf63eaab",
   "metadata": {},
   "source": [
    "To solve this problem, we can use the binomial distribution formula, which calculates the probability of obtaining a certain number of successes (in this case, having more revenue with Comic Sans) out of a fixed number of trials (10 trials, representing the 10 websites).\n",
    "\n",
    "The formula for the binomial distribution is:\n",
    "\n",
    "$$\n",
    "P(X=k) = \\binom{n}{k} p^{k}(1-p)^{n-k}\n",
    "$$\n",
    "\n",
    "Where\n",
    "\n",
    "- $P(X=k)$ is the probability of getting exactly $k$ successes\n",
    "- $n$ is the number of trials (in this case, 10 websites),\n",
    "- $k$ is the number of successes (in this case, 9 or 10 websites)\n",
    "- $p$ is the probability of success on each trial (0.5, since it's like flipping a fair coin).\n",
    "\n",
    "We need to calculate the probability of getting $9$ or $10$ successes out of $10$ trials. In Python we can compute this probabity in two ways through the `scipy` package. \n",
    "\n",
    "The first one is to compute the probability of getting the number of success we target out of $10$ trials directly from the above formula:\n",
    "\n",
    "$$\n",
    "\\binom{10}{9} \\cdot 0.5^{9} \\cdot (1-0.5)^{1} + \\binom{10}{10} \\cdot 0.5^{10} \\cdot (1-0.5)^{0}\n",
    "$$\n",
    "\n",
    "using the [`scipy.special.binom`](https://docs.scipy.org/doc/scipy/reference/generated/scipy.special.binom.html) function from `scipy` package."
   ]
  },
  {
   "cell_type": "code",
   "execution_count": 1,
   "id": "a2170271-42c9-40cd-a692-d2d73b5660f2",
   "metadata": {},
   "outputs": [
    {
     "data": {
      "text/plain": [
       "0.0107421875"
      ]
     },
     "execution_count": 1,
     "metadata": {},
     "output_type": "execute_result"
    }
   ],
   "source": [
    "import scipy.special\n",
    "\n",
    "scipy.special.binom(10, 9)*0.5**9*(1-0.5) + scipy.special.binom(10, 10)*0.5**10"
   ]
  },
  {
   "cell_type": "markdown",
   "id": "aae1e9be-e0ad-4acc-b10f-b771857837fe",
   "metadata": {},
   "source": [
    "The other approach, is to use the binomial distribution (`scipy.stats.binom`) and compute 1 - the probability to obtain up to 8 success."
   ]
  },
  {
   "cell_type": "code",
   "execution_count": 2,
   "id": "efdb9a61-1976-4802-b9d2-6749cf5e932f",
   "metadata": {
    "tags": []
   },
   "outputs": [
    {
     "data": {
      "text/plain": [
       "0.0107421875"
      ]
     },
     "execution_count": 2,
     "metadata": {},
     "output_type": "execute_result"
    }
   ],
   "source": [
    "import numpy as np\n",
    "from scipy.stats import binom\n",
    "\n",
    "1-binom.cdf(8, n = 10, p = 0.5)"
   ]
  },
  {
   "cell_type": "markdown",
   "id": "95d87ed3-1a2d-431c-ab27-1ce39c4e7118",
   "metadata": {},
   "source": [
    "## Exercise #2"
   ]
  },
  {
   "cell_type": "markdown",
   "id": "8bd6a378-f351-4b92-b4eb-c20dd054137d",
   "metadata": {},
   "source": [
    "> A software company is doing an analysis of documentation errors of their products. They sampled their very large codebase in chunks and found that the number of errors per chunk was approximately normally distributed with a mean of 11 errors and a standard deviation of 2. When randomly selecting a chunk from their codebase, whats the probability of fewer than 5 documentation errors?\n",
    "\n",
    "To find the probability of fewer than 5 documentation errors per chunk, we need to calculate the cumulative probability up to 5 errors based on the normal distribution with a mean $\\mu$ of 11 errors and a standard deviation $\\sigma$ of 2 errors.\n",
    "\n",
    "We can use the Z-score formula to standardize the value of $5$ and then look up the cumulative probability from the standard normal distribution table or use a calculator that provides this functionality. \n",
    "\n",
    "$$\n",
    "Z = \\frac{x-\\mu}{\\sigma}\n",
    "$$\n",
    "\n",
    "Where:\n",
    "\n",
    "- $x$ is the value we're interested in (in this case, 5)\n",
    "- $\\mu$ is the mean (11)\n",
    "- $\\sigma$ is the standard deviation (2).\n",
    "\n",
    "In Python, we can compute the value using the `scipy.stats.norm.cdf` function that outputs the cumulative density function for a normal distribution."
   ]
  },
  {
   "cell_type": "code",
   "execution_count": 3,
   "id": "380f7984-2443-446d-b7c5-fdbba20a1c9e",
   "metadata": {},
   "outputs": [
    {
     "name": "stdout",
     "output_type": "stream",
     "text": [
      "0.0013498980316300933\n",
      "0.0013498980316300933\n"
     ]
    }
   ],
   "source": [
    "from scipy.stats import norm\n",
    "\n",
    "print(norm.cdf(x = 5, loc = 11, scale = 2))\n",
    "\n",
    "# using the normalised Z-scored value\n",
    "print(norm.cdf(x = -3))"
   ]
  },
  {
   "cell_type": "markdown",
   "id": "096b9d84-0cf0-4fe5-b4e4-3822eee45a24",
   "metadata": {},
   "source": [
    "## Exercise #3"
   ]
  },
  {
   "cell_type": "markdown",
   "id": "11d4872d-875b-45b6-8c6c-b4f37fdc7df7",
   "metadata": {},
   "source": [
    "> The number of search entries entered at a web site is Poisson at a rate of 9 searches per minute. The site is monitored for 5 minutes. What is the probability of 40 or fewer searches in that time frame?\n",
    "\n",
    "To solve this problem, we'll use the Poisson distribution formula, which gives the probability of a given number of events occurring in a fixed interval of time or space, given the average rate of occurrence.\n",
    "\n",
    "The Poisson distribution formula is:\n",
    " \n",
    "​$$\n",
    "P(X = k; \\lambda) = \\frac{\\lambda^{x}e^{-\\lambda}}{x!}\n",
    "$$\n",
    " \n",
    "\n",
    "- $P(X=k)$ is the probability of observing $k$ events,\n",
    "- $\\lambda$ is the average rate of occurrence (in this case, the average number of searches per minute),\n",
    "- $k$ is the number of events observed.\n",
    "\n",
    "Given that the rate of searches is 9 searches per minute, we have $\\lambda = 9$\n",
    "\n",
    "We are interested in the probability of observing 40 or fewer searches in 5 minutes. Since the average rate is given per minute, we need to adjust the rate for the 5-minute interval. So, the new average rate for 5 minutes is $\\lambda' = \\lambda \\times 5 = 9 \\times 5 = 45$.\n",
    "\n",
    "In Python, we can use the `scipy.stats.poisson` module to compute the probability of observing 40 or fewer searches in a 5-minute interval."
   ]
  },
  {
   "cell_type": "code",
   "execution_count": 4,
   "id": "893431a4-14fd-4739-b164-ddbeb5397569",
   "metadata": {},
   "outputs": [
    {
     "name": "stdout",
     "output_type": "stream",
     "text": [
      "Probability of 40 or fewer searches in 5 minutes: 0.2555\n"
     ]
    }
   ],
   "source": [
    "from scipy.stats import poisson\n",
    "\n",
    "# Average rate of searches per minute\n",
    "lambda_ = 9\n",
    "\n",
    "# Average rate for 5 minutes\n",
    "lambda_5 = lambda_ * 5\n",
    "\n",
    "# Probability of observing 40 or fewer searches in 5 minutes\n",
    "probability = poisson.cdf(40, lambda_5)\n",
    "\n",
    "print(\"Probability of 40 or fewer searches in 5 minutes:\", np.round(probability,4))"
   ]
  },
  {
   "cell_type": "markdown",
   "id": "7088118d-22f0-48e1-984d-b0db4c310d88",
   "metadata": {},
   "source": [
    "## Exercise #4"
   ]
  },
  {
   "cell_type": "markdown",
   "id": "6dcb6302-7517-43fb-a6a7-19900f81cbc4",
   "metadata": {},
   "source": [
    "> Suppose that the number of web hits to a particular site are approximately normally distributed with a mean of 100 hits per day and a standard deviation of 10 hits per day. What’s the probability that a given day has fewer than 93 hits per day expressed as a percentage to the nearest percentage point?\n",
    "\n",
    "Like Exercise #2, to find the probability that a given day has fewer than $93$ hits per day, we'll use the Z-score formula to standardize the value of $93$ and then find the corresponding probability from the standard normal distribution table or using a calculator.\n",
    "\n",
    "The Z-score formula is:\n",
    "\n",
    "$$\n",
    "Z = \\frac{x-\\mu}{\\sigma}\n",
    "$$\n",
    "\n",
    "Where:\n",
    "\n",
    "- $x$ is the value we're interested in (in this case, 93 hits per day)\n",
    "- $\\mu$ is the mean (100 hits per day)\n",
    "- $\\sigma$ is the standard deviation (10 hits per day).\n",
    "\n",
    "Using Python:"
   ]
  },
  {
   "cell_type": "code",
   "execution_count": 5,
   "id": "6bf6e58a-3f9d-4e29-9c7f-400e2547b161",
   "metadata": {},
   "outputs": [
    {
     "name": "stdout",
     "output_type": "stream",
     "text": [
      "-0.7\n"
     ]
    },
    {
     "data": {
      "text/plain": [
       "24.0"
      ]
     },
     "execution_count": 5,
     "metadata": {},
     "output_type": "execute_result"
    }
   ],
   "source": [
    "x = 93\n",
    "mu = 100\n",
    "sigma = 10\n",
    "\n",
    "Z = (x-mu)/sigma\n",
    "\n",
    "print(Z)\n",
    "np.round(norm.cdf(Z), 2)*100"
   ]
  },
  {
   "cell_type": "markdown",
   "id": "e29e711b-1d08-4a55-91a1-801666c7c8dc",
   "metadata": {},
   "source": [
    "## Exercise #5"
   ]
  },
  {
   "cell_type": "markdown",
   "id": "808e87de-3518-4b5c-96b2-6f3a07e2ab22",
   "metadata": {},
   "source": [
    "> Suppose that the number of web hits to a particular site are approximately normally distributed with a mean of 100 hits per day and a standard deviation of 10 hits per day. What number of web hits per day represents the number so that only 5% of days have more hits?\n",
    "\n",
    "To find the number of web hits per day such that only 5% of days have more hits, we need to find the value $X$ such that the cumulative probability up to $X$ is %95 \\%$. \n",
    "\n",
    "Since the distribution is normal, we'll use the Z-score formula to find the corresponding Z-score for the cumulative probability of $95 \\%$, then use the inverse standard normal distribution (in Python we will use the `norm.ppf` module) to find the value of $X$ corresponding to that Z-score.\n",
    "\n",
    "First, we need to find the Z-score corresponding to a cumulative probability of $95 \\%$. This Z-score will be denoted as $Z_{0.95}$\n",
    "\n",
    "$$\n",
    "Z_{0.95} \\sim 1.645\n",
    "$$\n",
    "\n",
    "Next, we'll use the Z-score formula to find the value of $X$ corresponding to this Z-score:\n",
    "\n",
    "$$\n",
    "Z_{0.95} = \\frac{X-100}{10}\n",
    "$$\n",
    "\n",
    "and so:\n",
    "\n",
    "$$\n",
    "X = 1.645 \\times 10 + 100 = 116.45\n",
    "$$"
   ]
  },
  {
   "cell_type": "code",
   "execution_count": 6,
   "id": "5d3ae572-2d81-4389-895a-6fd541d4dc4a",
   "metadata": {},
   "outputs": [
    {
     "data": {
      "text/plain": [
       "116.449"
      ]
     },
     "execution_count": 6,
     "metadata": {},
     "output_type": "execute_result"
    }
   ],
   "source": [
    "mu = 100\n",
    "sigma = 10\n",
    "\n",
    "Z_95 = norm.ppf(q = 0.95)\n",
    "x = Z_95*sigma + mu\n",
    "np.round(x,3)"
   ]
  },
  {
   "cell_type": "markdown",
   "id": "81b78f22-575c-4bc5-81cc-1cff2601eef6",
   "metadata": {},
   "source": [
    "## Exercise #6"
   ]
  },
  {
   "cell_type": "markdown",
   "id": "8089243f-72cc-440a-a2ba-f91ecee57ade",
   "metadata": {},
   "source": [
    "> Suppose that the number of web hits to a particular site are approximately normally distributed with a mean of 100 hits per day and a standard deviation of 10 hits per day. Imagine taking a random sample of 50 days. What number of web hits would be the point so that only 5% of averages of 50 days of web traffic have more hits?\n",
    "\n",
    "To find the number of web hits per day such that only 5% of averages of 50 days of web traffic have more hits, we'll need to consider the distribution of the sample means. The distribution of sample means follows a normal distribution with a mean equal to the population mean ($\\mu$) and a standard deviation equal to the population standard deviation divided by the square root of the sample size ($\\sigma/\\sqrt{n}$).\n",
    "\n",
    "Given:\n",
    "- Population mean $\\mu = 100 \\text{ hits per day}$\n",
    "- Population standard deviation $\\sigma = 10 \\text{ hits per day}$\n",
    "- Sample size $n = 50 \\text{ days}$\n",
    "\n",
    "The standard deviation of the sample mean ($\\sigma_{\\bar{n}}$) is calculated as:\n",
    "\n",
    "$$\n",
    "\\sigma_{\\bar{n}} = \\frac{\\sigma}{\\sqrt{n}} = \\frac{10}{\\sqrt{50}} \\sim 1.414\n",
    "$$\n",
    "\n",
    "We want to find the value of $\\bar{x}$ (the sample mean) that corresponds to the 95th percentile of the sampling distribution, which corresponds to a Z-score of approximately 1.645 \n",
    "\n",
    "$$\n",
    "X = 1.645 \\times 1.414 + 100 \\sim 102.32\n",
    "$$"
   ]
  },
  {
   "cell_type": "code",
   "execution_count": 7,
   "id": "5645f88f-0d3e-417b-bbbd-cc449bb779b2",
   "metadata": {},
   "outputs": [
    {
     "data": {
      "text/plain": [
       "102.326"
      ]
     },
     "execution_count": 7,
     "metadata": {},
     "output_type": "execute_result"
    }
   ],
   "source": [
    "mu = 100\n",
    "sigma = 10\n",
    "n_of_samples = 50\n",
    "\n",
    "sigma_mean = sigma/np.sqrt(n_of_samples)\n",
    "\n",
    "Z_95 = norm.ppf(q = 0.95)\n",
    "x = Z_95*sigma_mean + mu\n",
    "np.round(x,3)"
   ]
  },
  {
   "cell_type": "code",
   "execution_count": 8,
   "id": "15198bc9-7f04-46ad-ae85-9f8834ebb5d2",
   "metadata": {},
   "outputs": [
    {
     "data": {
      "text/plain": [
       "102.326"
      ]
     },
     "execution_count": 8,
     "metadata": {},
     "output_type": "execute_result"
    }
   ],
   "source": [
    "mu = 100\n",
    "sigma = 10\n",
    "n_samples = 50\n",
    "\n",
    "x = norm.ppf(\n",
    "    q = 0.95,\n",
    "    loc = 100,\n",
    "    scale = sigma/np.sqrt(n_samples)\n",
    ")\n",
    "\n",
    "np.round(x, 3)"
   ]
  },
  {
   "cell_type": "markdown",
   "id": "9383dd56-057f-417a-bcb7-44726d587d74",
   "metadata": {},
   "source": [
    "## Exercise #7"
   ]
  },
  {
   "cell_type": "markdown",
   "id": "d198c31f-39a5-45a4-a4eb-8113634de4bf",
   "metadata": {},
   "source": [
    "> You don’t believe that your friend can discern good wine from cheap. Assuming that you’re right, in a blind test where you randomize 6 paired varieties (Merlot, Chianti, ...) of cheap and expensive wines. What is the change that she gets 5 or 6 right?\n",
    "\n",
    "This exercise is very similar to Exercise #1 and we can use the binomial distribution formula, which calculates the probability of obtaining a certain number of successes (in this case, correctly identifying expensive wines) out of a fixed number of trials (the number of pairs of wines). Since your friend doesn't have the ability to discern good wine from cheap, the probability of guessing correctly on each trial (identifying the expensive wine) is 0.5, as it's like flipping a fair coin. We need to calculate the probability of getting 5 or 6 successes out of 6 trials."
   ]
  },
  {
   "cell_type": "code",
   "execution_count": 9,
   "id": "0adee51a-90f0-4ab2-937c-d99c75ca0151",
   "metadata": {},
   "outputs": [
    {
     "data": {
      "text/plain": [
       "10.9"
      ]
     },
     "execution_count": 9,
     "metadata": {},
     "output_type": "execute_result"
    }
   ],
   "source": [
    "import scipy.special\n",
    "\n",
    "p = scipy.special.binom(6, 5)*0.5**5*(1-0.5) + scipy.special.binom(6, 6)*0.5**6\n",
    "np.round(p*100,1)"
   ]
  },
  {
   "cell_type": "code",
   "execution_count": 10,
   "id": "d7e84377-410f-4819-a271-3718e08f1d45",
   "metadata": {},
   "outputs": [
    {
     "data": {
      "text/plain": [
       "10.9"
      ]
     },
     "execution_count": 10,
     "metadata": {},
     "output_type": "execute_result"
    }
   ],
   "source": [
    "from scipy.stats import binom\n",
    "\n",
    "p= 1-binom.cdf(4, n = 6, p = 0.5)\n",
    "np.round(p*100,1)"
   ]
  },
  {
   "cell_type": "markdown",
   "id": "81566c4e-bd48-4b65-b7f1-27f0b1154353",
   "metadata": {},
   "source": [
    "## Exercise #8"
   ]
  },
  {
   "cell_type": "markdown",
   "id": "696a08f7-4d47-4325-8eac-1d6621184a5a",
   "metadata": {},
   "source": [
    "> The number of web hits to a site is Poisson with mean 16.5 per day. What is the probability of getting 20 or fewer in 2 days?\n",
    "\n",
    "To solve this exercise, we will use the same approach as in exercise #3 as in this case we are interested in the probability of observing 20 or fewer web hits in less then 2 days. Since the average rate is given per day, we need to adjust the rate for the 2-days interval. "
   ]
  },
  {
   "cell_type": "code",
   "execution_count": 11,
   "id": "0a893c1a-7f9d-41c3-b868-cd0048a843b2",
   "metadata": {},
   "outputs": [
    {
     "name": "stdout",
     "output_type": "stream",
     "text": [
      "Probability of 20 or fewer hits in 2 days: 1.0\n"
     ]
    }
   ],
   "source": [
    "from scipy.stats import poisson\n",
    "\n",
    "# Average rate of hits per day\n",
    "lambda_ = 16.5\n",
    "\n",
    "# Average rate for 2 days\n",
    "lambda_2 = lambda_ * 2\n",
    "\n",
    "# Probability of observing 20 or fewer hits in 2 days\n",
    "probability = poisson.cdf(20, lambda_2)\n",
    "\n",
    "print(\"Probability of 20 or fewer hits in 2 days:\", np.round(100*probability,1))"
   ]
  },
  {
   "cell_type": "code",
   "execution_count": null,
   "id": "0dd4a4ff-79aa-4d84-8bef-aa72e72977b3",
   "metadata": {},
   "outputs": [],
   "source": []
  }
 ],
 "metadata": {
  "kernelspec": {
   "display_name": "Python 3 (ipykernel)",
   "language": "python",
   "name": "python3"
  },
  "language_info": {
   "codemirror_mode": {
    "name": "ipython",
    "version": 3
   },
   "file_extension": ".py",
   "mimetype": "text/x-python",
   "name": "python",
   "nbconvert_exporter": "python",
   "pygments_lexer": "ipython3",
   "version": "3.9.18"
  }
 },
 "nbformat": 4,
 "nbformat_minor": 5
}
