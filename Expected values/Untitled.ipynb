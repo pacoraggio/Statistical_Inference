{
 "cells": [
  {
   "cell_type": "code",
   "execution_count": 4,
   "id": "efdb9a61-1976-4802-b9d2-6749cf5e932f",
   "metadata": {
    "tags": []
   },
   "outputs": [
    {
     "data": {
      "text/plain": [
       "0.36363636363636365"
      ]
     },
     "execution_count": 4,
     "metadata": {},
     "output_type": "execute_result"
    }
   ],
   "source": [
    "8/(8+14)"
   ]
  },
  {
   "cell_type": "code",
   "execution_count": 5,
   "id": "495c93c1-9d36-49b7-9d10-60a8ce2f0c53",
   "metadata": {
    "tags": []
   },
   "outputs": [
    {
     "data": {
      "text/plain": [
       "0.9333333333333333"
      ]
     },
     "execution_count": 5,
     "metadata": {},
     "output_type": "execute_result"
    }
   ],
   "source": [
    "14/(15)"
   ]
  },
  {
   "cell_type": "code",
   "execution_count": 7,
   "id": "0b82d75e-51fd-4d83-8878-dd8e7407aeda",
   "metadata": {
    "tags": []
   },
   "outputs": [
    {
     "data": {
      "text/plain": [
       "0.5185185185185185"
      ]
     },
     "execution_count": 7,
     "metadata": {},
     "output_type": "execute_result"
    }
   ],
   "source": [
    "14/(14+13)"
   ]
  },
  {
   "cell_type": "code",
   "execution_count": 8,
   "id": "346670c0-76e2-4555-ada9-4b6f38e79801",
   "metadata": {
    "tags": []
   },
   "outputs": [
    {
     "data": {
      "text/plain": [
       "0.4827586206896552"
      ]
     },
     "execution_count": 8,
     "metadata": {},
     "output_type": "execute_result"
    }
   ],
   "source": [
    "14/(14+15)"
   ]
  },
  {
   "cell_type": "code",
   "execution_count": 9,
   "id": "512f3767-a564-4cef-97da-283d02013604",
   "metadata": {
    "tags": []
   },
   "outputs": [],
   "source": [
    "def p_odds(num, den):\n",
    "    return(num/(num+den))"
   ]
  },
  {
   "cell_type": "code",
   "execution_count": 12,
   "id": "5283be7b-8db5-439e-a5ab-8000f403a75d",
   "metadata": {
    "tags": []
   },
   "outputs": [
    {
     "data": {
      "text/plain": [
       "0.4444444444444444"
      ]
     },
     "execution_count": 12,
     "metadata": {},
     "output_type": "execute_result"
    }
   ],
   "source": [
    "p_odds(4,5)"
   ]
  },
  {
   "cell_type": "code",
   "execution_count": 20,
   "id": "8744684b-6645-48ac-b92f-17b2c9d0929f",
   "metadata": {
    "tags": []
   },
   "outputs": [
    {
     "data": {
      "text/plain": [
       "0.46153846153846156"
      ]
     },
     "execution_count": 20,
     "metadata": {},
     "output_type": "execute_result"
    }
   ],
   "source": []
  },
  {
   "cell_type": "code",
   "execution_count": 22,
   "id": "9951f448-dc85-4b9d-b842-9288ad011db7",
   "metadata": {
    "tags": []
   },
   "outputs": [
    {
     "name": "stdout",
     "output_type": "stream",
     "text": [
      "for n = 4, p_odds(4/5) = 0.4444444444444444, p_odds(4/3) = 0.5714285714285714\n",
      "for n = 5, p_odds(5/6) = 0.45454545454545453, p_odds(5/4) = 0.5555555555555556\n",
      "for n = 6, p_odds(6/7) = 0.46153846153846156, p_odds(6/5) = 0.5454545454545454\n",
      "for n = 7, p_odds(7/8) = 0.4666666666666667, p_odds(7/6) = 0.5384615384615384\n",
      "for n = 8, p_odds(8/9) = 0.47058823529411764, p_odds(8/7) = 0.5333333333333333\n",
      "for n = 9, p_odds(9/10) = 0.47368421052631576, p_odds(9/8) = 0.5294117647058824\n"
     ]
    }
   ],
   "source": [
    "import numpy as np\n",
    "\n",
    "for i in np.arange(4,10):\n",
    "    print(\"for n = {}, p_odds({}/{}) = {}, p_odds({}/{}) = {}\".format(i, i, i+1, p_odds(i,i+1),\n",
    "                                                                     i,i-1, p_odds(i,i-1)))"
   ]
  },
  {
   "cell_type": "code",
   "execution_count": 23,
   "id": "4eed7f35-89bc-4970-91a4-d4946d213bb9",
   "metadata": {
    "tags": []
   },
   "outputs": [
    {
     "name": "stdout",
     "output_type": "stream",
     "text": [
      "for n = 4, p_odds(4/8) = 0.3333333333333333, p_odds(4/3) = 0.5714285714285714\n",
      "for n = 5, p_odds(5/10) = 0.3333333333333333, p_odds(5/4) = 0.5555555555555556\n",
      "for n = 6, p_odds(6/12) = 0.3333333333333333, p_odds(6/5) = 0.5454545454545454\n",
      "for n = 7, p_odds(7/14) = 0.3333333333333333, p_odds(7/6) = 0.5384615384615384\n",
      "for n = 8, p_odds(8/16) = 0.3333333333333333, p_odds(8/7) = 0.5333333333333333\n",
      "for n = 9, p_odds(9/18) = 0.3333333333333333, p_odds(9/8) = 0.5294117647058824\n"
     ]
    }
   ],
   "source": [
    "import numpy as np\n",
    "\n",
    "for i in np.arange(4,10):\n",
    "    print(\"for n = {}, p_odds({}/{}) = {}, p_odds({}/{}) = {}\".format(i, i, 2*i, p_odds(i,2*i),\n",
    "                                                                     i,i-1, p_odds(i,i-1)))"
   ]
  },
  {
   "cell_type": "code",
   "execution_count": 24,
   "id": "a96aa907-2cb0-4d17-8265-b761e09e5d56",
   "metadata": {
    "tags": []
   },
   "outputs": [
    {
     "data": {
      "text/plain": [
       "0.75"
      ]
     },
     "execution_count": 24,
     "metadata": {},
     "output_type": "execute_result"
    }
   ],
   "source": [
    "3/4"
   ]
  },
  {
   "cell_type": "code",
   "execution_count": 25,
   "id": "5e9dac67-2163-45e0-b07f-9dcd00e8adfa",
   "metadata": {
    "tags": []
   },
   "outputs": [
    {
     "data": {
      "text/plain": [
       "0.3333333333333333"
      ]
     },
     "execution_count": 25,
     "metadata": {},
     "output_type": "execute_result"
    }
   ],
   "source": [
    "1/3"
   ]
  },
  {
   "cell_type": "code",
   "execution_count": null,
   "id": "50933afc-e990-4ec9-9cf8-a7d0f19fad39",
   "metadata": {},
   "outputs": [],
   "source": []
  }
 ],
 "metadata": {
  "kernelspec": {
   "display_name": "Python 3 (ipykernel)",
   "language": "python",
   "name": "python3"
  },
  "language_info": {
   "codemirror_mode": {
    "name": "ipython",
    "version": 3
   },
   "file_extension": ".py",
   "mimetype": "text/x-python",
   "name": "python",
   "nbconvert_exporter": "python",
   "pygments_lexer": "ipython3",
   "version": "3.9.13"
  }
 },
 "nbformat": 4,
 "nbformat_minor": 5
}
